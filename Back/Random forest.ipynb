{
 "cells": [
  {
   "cell_type": "code",
   "execution_count": 3,
   "id": "b170440f-6dd6-403e-b3e7-7ebbde65189a",
   "metadata": {},
   "outputs": [
    {
     "name": "stdout",
     "output_type": "stream",
     "text": [
      "Requirement already satisfied: pandas in c:\\users\\camilo\\appdata\\roaming\\python\\python310\\site-packages (from -r requirements.txt (line 1)) (1.4.3)\n",
      "Requirement already satisfied: sklearn in c:\\users\\camilo\\appdata\\roaming\\python\\python310\\site-packages (from -r requirements.txt (line 2)) (0.0)\n",
      "Requirement already satisfied: numpy in c:\\users\\camilo\\appdata\\roaming\\python\\python310\\site-packages (from -r requirements.txt (line 3)) (1.23.0)\n",
      "Requirement already satisfied: pydot in c:\\users\\camilo\\appdata\\roaming\\python\\python310\\site-packages (from -r requirements.txt (line 4)) (1.4.2)\n",
      "Requirement already satisfied: pytz>=2020.1 in c:\\users\\camilo\\appdata\\local\\programs\\python\\python310\\lib\\site-packages (from pandas->-r requirements.txt (line 1)) (2022.1)\n",
      "Requirement already satisfied: python-dateutil>=2.8.1 in c:\\users\\camilo\\appdata\\local\\programs\\python\\python310\\lib\\site-packages (from pandas->-r requirements.txt (line 1)) (2.8.2)\n",
      "Requirement already satisfied: scikit-learn in c:\\users\\camilo\\appdata\\roaming\\python\\python310\\site-packages (from sklearn->-r requirements.txt (line 2)) (1.1.1)\n",
      "Requirement already satisfied: pyparsing>=2.1.4 in c:\\users\\camilo\\appdata\\local\\programs\\python\\python310\\lib\\site-packages (from pydot->-r requirements.txt (line 4)) (3.0.9)\n",
      "Requirement already satisfied: six>=1.5 in c:\\users\\camilo\\appdata\\local\\programs\\python\\python310\\lib\\site-packages (from python-dateutil>=2.8.1->pandas->-r requirements.txt (line 1)) (1.16.0)\n",
      "Requirement already satisfied: scipy>=1.3.2 in c:\\users\\camilo\\appdata\\roaming\\python\\python310\\site-packages (from scikit-learn->sklearn->-r requirements.txt (line 2)) (1.8.1)\n",
      "Requirement already satisfied: threadpoolctl>=2.0.0 in c:\\users\\camilo\\appdata\\roaming\\python\\python310\\site-packages (from scikit-learn->sklearn->-r requirements.txt (line 2)) (3.1.0)\n",
      "Requirement already satisfied: joblib>=1.0.0 in c:\\users\\camilo\\appdata\\roaming\\python\\python310\\site-packages (from scikit-learn->sklearn->-r requirements.txt (line 2)) (1.1.0)\n",
      "Note: you may need to restart the kernel to use updated packages.\n"
     ]
    },
    {
     "name": "stderr",
     "output_type": "stream",
     "text": [
      "WARNING: You are using pip version 22.0.4; however, version 22.1.2 is available.\n",
      "You should consider upgrading via the 'C:\\Users\\Camilo\\AppData\\Local\\Programs\\Python\\Python310\\python.exe -m pip install --upgrade pip' command.\n"
     ]
    }
   ],
   "source": [
    "pip install --user -r requirements.txt"
   ]
  },
  {
   "cell_type": "code",
   "execution_count": 4,
   "id": "06f62db3",
   "metadata": {},
   "outputs": [],
   "source": [
    "import numpy as np"
   ]
  },
  {
   "cell_type": "code",
   "execution_count": 5,
   "id": "0bfd2572-1057-4625-b979-de2eca9cc6d1",
   "metadata": {},
   "outputs": [
    {
     "data": {
      "text/html": [
       "<div>\n",
       "<style scoped>\n",
       "    .dataframe tbody tr th:only-of-type {\n",
       "        vertical-align: middle;\n",
       "    }\n",
       "\n",
       "    .dataframe tbody tr th {\n",
       "        vertical-align: top;\n",
       "    }\n",
       "\n",
       "    .dataframe thead th {\n",
       "        text-align: right;\n",
       "    }\n",
       "</style>\n",
       "<table border=\"1\" class=\"dataframe\">\n",
       "  <thead>\n",
       "    <tr style=\"text-align: right;\">\n",
       "      <th></th>\n",
       "      <th>fecha</th>\n",
       "      <th>start_datetime</th>\n",
       "      <th>numero_tarjeta</th>\n",
       "      <th>valor</th>\n",
       "      <th>id_linea</th>\n",
       "      <th>id_ruta</th>\n",
       "      <th>tipo_servicio</th>\n",
       "      <th>id_vehiculo</th>\n",
       "      <th>id_dispositivo</th>\n",
       "      <th>parada_origen</th>\n",
       "      <th>...</th>\n",
       "      <th>desv_x_origen</th>\n",
       "      <th>desv_y_origen</th>\n",
       "      <th>desv_x_destino</th>\n",
       "      <th>desv_y_destino</th>\n",
       "      <th>posx_ajustada_origen</th>\n",
       "      <th>posy_ajustada_origen</th>\n",
       "      <th>posx_ajustada_destino</th>\n",
       "      <th>posy_ajustada_destino</th>\n",
       "      <th>tiempo_viaje_base</th>\n",
       "      <th>tiempo_viaje_full</th>\n",
       "    </tr>\n",
       "  </thead>\n",
       "  <tbody>\n",
       "    <tr>\n",
       "      <th>0</th>\n",
       "      <td>2021-10-26</td>\n",
       "      <td>2021-10-26 06:08:35</td>\n",
       "      <td>c294bf85acad1c76fb3bc54e3ad1b355689256574a55b2...</td>\n",
       "      <td>2300.0</td>\n",
       "      <td>1465</td>\n",
       "      <td>6584</td>\n",
       "      <td>ZONAL</td>\n",
       "      <td>704419.0</td>\n",
       "      <td>220003402</td>\n",
       "      <td>099A12</td>\n",
       "      <td>...</td>\n",
       "      <td>-0.003363</td>\n",
       "      <td>0.002507</td>\n",
       "      <td>0.004088</td>\n",
       "      <td>0.000128</td>\n",
       "      <td>-74.125661</td>\n",
       "      <td>4.479036</td>\n",
       "      <td>-74.113878</td>\n",
       "      <td>4.517030</td>\n",
       "      <td>0 days 00:17:00</td>\n",
       "      <td>0 days 00:30:50.846660</td>\n",
       "    </tr>\n",
       "    <tr>\n",
       "      <th>1</th>\n",
       "      <td>2021-10-26</td>\n",
       "      <td>2021-10-26 07:00:16</td>\n",
       "      <td>412bdae901b48c7ff6c31c507c88dcb0fb1025910eedd5...</td>\n",
       "      <td>2300.0</td>\n",
       "      <td>1247</td>\n",
       "      <td>5506</td>\n",
       "      <td>ZONAL</td>\n",
       "      <td>257319.0</td>\n",
       "      <td>220000970</td>\n",
       "      <td>160B08</td>\n",
       "      <td>...</td>\n",
       "      <td>-0.000498</td>\n",
       "      <td>0.004288</td>\n",
       "      <td>0.001287</td>\n",
       "      <td>-0.004003</td>\n",
       "      <td>-74.159191</td>\n",
       "      <td>4.642505</td>\n",
       "      <td>-74.124463</td>\n",
       "      <td>4.667289</td>\n",
       "      <td>0 days 00:27:37</td>\n",
       "      <td>0 days 00:41:51.618245</td>\n",
       "    </tr>\n",
       "    <tr>\n",
       "      <th>2</th>\n",
       "      <td>2021-10-26</td>\n",
       "      <td>2021-10-26 19:33:56</td>\n",
       "      <td>f3ca52b5a4c594dbdc61c394b5ae2073b76d71f8c83094...</td>\n",
       "      <td>2300.0</td>\n",
       "      <td>1187</td>\n",
       "      <td>6276</td>\n",
       "      <td>ZONAL</td>\n",
       "      <td>102060.0</td>\n",
       "      <td>220003936</td>\n",
       "      <td>011A05</td>\n",
       "      <td>...</td>\n",
       "      <td>0.000258</td>\n",
       "      <td>0.004099</td>\n",
       "      <td>0.000433</td>\n",
       "      <td>0.004060</td>\n",
       "      <td>-74.109564</td>\n",
       "      <td>4.692994</td>\n",
       "      <td>-74.023639</td>\n",
       "      <td>4.770264</td>\n",
       "      <td>0 days 01:02:14</td>\n",
       "      <td>0 days 01:15:55.455275</td>\n",
       "    </tr>\n",
       "    <tr>\n",
       "      <th>3</th>\n",
       "      <td>2021-10-26</td>\n",
       "      <td>2021-10-26 08:09:51</td>\n",
       "      <td>5e4e2aa463b4b12161ae57c68398e4e27d707ca7cdeac7...</td>\n",
       "      <td>2300.0</td>\n",
       "      <td>1215</td>\n",
       "      <td>5385</td>\n",
       "      <td>ZONAL</td>\n",
       "      <td>502068.0</td>\n",
       "      <td>220005304</td>\n",
       "      <td>175A05</td>\n",
       "      <td>...</td>\n",
       "      <td>0.003704</td>\n",
       "      <td>0.001774</td>\n",
       "      <td>0.003814</td>\n",
       "      <td>0.001417</td>\n",
       "      <td>-74.120912</td>\n",
       "      <td>4.711939</td>\n",
       "      <td>-74.108603</td>\n",
       "      <td>4.667273</td>\n",
       "      <td>0 days 00:18:42</td>\n",
       "      <td>0 days 00:32:22.023203</td>\n",
       "    </tr>\n",
       "    <tr>\n",
       "      <th>4</th>\n",
       "      <td>2021-10-26</td>\n",
       "      <td>2021-10-26 06:37:27</td>\n",
       "      <td>dfc7b558fa38469e0ec599401925307aafe5d8d9071eeb...</td>\n",
       "      <td>2300.0</td>\n",
       "      <td>1136</td>\n",
       "      <td>5974</td>\n",
       "      <td>ZONAL</td>\n",
       "      <td>507048.0</td>\n",
       "      <td>220005021</td>\n",
       "      <td>170B05</td>\n",
       "      <td>...</td>\n",
       "      <td>0.003773</td>\n",
       "      <td>0.002110</td>\n",
       "      <td>0.001039</td>\n",
       "      <td>-0.003842</td>\n",
       "      <td>-74.105332</td>\n",
       "      <td>4.700122</td>\n",
       "      <td>-74.089702</td>\n",
       "      <td>4.679111</td>\n",
       "      <td>0 days 00:01:03</td>\n",
       "      <td>0 days 00:14:55.786588</td>\n",
       "    </tr>\n",
       "  </tbody>\n",
       "</table>\n",
       "<p>5 rows × 44 columns</p>\n",
       "</div>"
      ],
      "text/plain": [
       "        fecha       start_datetime  \\\n",
       "0  2021-10-26  2021-10-26 06:08:35   \n",
       "1  2021-10-26  2021-10-26 07:00:16   \n",
       "2  2021-10-26  2021-10-26 19:33:56   \n",
       "3  2021-10-26  2021-10-26 08:09:51   \n",
       "4  2021-10-26  2021-10-26 06:37:27   \n",
       "\n",
       "                                      numero_tarjeta   valor  id_linea  \\\n",
       "0  c294bf85acad1c76fb3bc54e3ad1b355689256574a55b2...  2300.0      1465   \n",
       "1  412bdae901b48c7ff6c31c507c88dcb0fb1025910eedd5...  2300.0      1247   \n",
       "2  f3ca52b5a4c594dbdc61c394b5ae2073b76d71f8c83094...  2300.0      1187   \n",
       "3  5e4e2aa463b4b12161ae57c68398e4e27d707ca7cdeac7...  2300.0      1215   \n",
       "4  dfc7b558fa38469e0ec599401925307aafe5d8d9071eeb...  2300.0      1136   \n",
       "\n",
       "   id_ruta tipo_servicio  id_vehiculo  id_dispositivo parada_origen  ...  \\\n",
       "0     6584         ZONAL     704419.0       220003402        099A12  ...   \n",
       "1     5506         ZONAL     257319.0       220000970        160B08  ...   \n",
       "2     6276         ZONAL     102060.0       220003936        011A05  ...   \n",
       "3     5385         ZONAL     502068.0       220005304        175A05  ...   \n",
       "4     5974         ZONAL     507048.0       220005021        170B05  ...   \n",
       "\n",
       "  desv_x_origen  desv_y_origen desv_x_destino  desv_y_destino  \\\n",
       "0     -0.003363       0.002507       0.004088        0.000128   \n",
       "1     -0.000498       0.004288       0.001287       -0.004003   \n",
       "2      0.000258       0.004099       0.000433        0.004060   \n",
       "3      0.003704       0.001774       0.003814        0.001417   \n",
       "4      0.003773       0.002110       0.001039       -0.003842   \n",
       "\n",
       "   posx_ajustada_origen  posy_ajustada_origen  posx_ajustada_destino  \\\n",
       "0            -74.125661              4.479036             -74.113878   \n",
       "1            -74.159191              4.642505             -74.124463   \n",
       "2            -74.109564              4.692994             -74.023639   \n",
       "3            -74.120912              4.711939             -74.108603   \n",
       "4            -74.105332              4.700122             -74.089702   \n",
       "\n",
       "   posy_ajustada_destino  tiempo_viaje_base       tiempo_viaje_full  \n",
       "0               4.517030    0 days 00:17:00  0 days 00:30:50.846660  \n",
       "1               4.667289    0 days 00:27:37  0 days 00:41:51.618245  \n",
       "2               4.770264    0 days 01:02:14  0 days 01:15:55.455275  \n",
       "3               4.667273    0 days 00:18:42  0 days 00:32:22.023203  \n",
       "4               4.679111    0 days 00:01:03  0 days 00:14:55.786588  \n",
       "\n",
       "[5 rows x 44 columns]"
      ]
     },
     "execution_count": 5,
     "metadata": {},
     "output_type": "execute_result"
    }
   ],
   "source": [
    "# Pandas is used for data manipulation\n",
    "import pandas as pd\n",
    "\n",
    "# Read in data as pandas dataframe and display first 5 rows\n",
    "df = pd.read_csv(\"20220621_matriz_od_ajustada.csv\", encoding=\"utf8\", dtype = { 'tipo_servicio': 'category'})\n",
    "df.head(5)"
   ]
  },
  {
   "cell_type": "code",
   "execution_count": 6,
   "id": "e473bb49-4885-4b8e-8756-f49b82cd14db",
   "metadata": {},
   "outputs": [
    {
     "name": "stdout",
     "output_type": "stream",
     "text": [
      "The shape of our features is: (215481, 44)\n"
     ]
    }
   ],
   "source": [
    "print('The shape of our features is:', df.shape)"
   ]
  },
  {
   "cell_type": "code",
   "execution_count": 7,
   "id": "4e6f7281-867d-4fde-ae46-eb085242ff73",
   "metadata": {},
   "outputs": [
    {
     "data": {
      "text/plain": [
       "Index(['fecha', 'start_datetime', 'numero_tarjeta', 'valor', 'id_linea',\n",
       "       'id_ruta', 'tipo_servicio', 'id_vehiculo', 'id_dispositivo',\n",
       "       'parada_origen', 'parada_siguiente', 'id', 'parada_destino',\n",
       "       'posx_parada_origen', 'posy_parada_origen', 'posx_parada_destino',\n",
       "       'posy_parada_destino', 'hour', 'minute', 'second', 'minute5',\n",
       "       'stop_id_origen', 'stop_code_origen', 'stop_name_origen',\n",
       "       'stop_id_destino', 'stop_code_destino', 'stop_name_destino', 'route_id',\n",
       "       'trip_id', 'end_datetime', 'rand_dist_origen', 'rand_angulo_origen',\n",
       "       'rand_dist_destino', 'rand_angulo_destino', 'desv_x_origen',\n",
       "       'desv_y_origen', 'desv_x_destino', 'desv_y_destino',\n",
       "       'posx_ajustada_origen', 'posy_ajustada_origen', 'posx_ajustada_destino',\n",
       "       'posy_ajustada_destino', 'tiempo_viaje_base', 'tiempo_viaje_full'],\n",
       "      dtype='object')"
      ]
     },
     "execution_count": 7,
     "metadata": {},
     "output_type": "execute_result"
    }
   ],
   "source": [
    "# List of columns\n",
    "df.columns"
   ]
  },
  {
   "cell_type": "code",
   "execution_count": 8,
   "id": "ea449574-611d-4df7-879c-2dd735def229",
   "metadata": {},
   "outputs": [
    {
     "name": "stderr",
     "output_type": "stream",
     "text": [
      "C:\\Users\\Camilo\\AppData\\Local\\Temp\\ipykernel_7244\\36176587.py:3: SettingWithCopyWarning: \n",
      "A value is trying to be set on a copy of a slice from a DataFrame.\n",
      "Try using .loc[row_indexer,col_indexer] = value instead\n",
      "\n",
      "See the caveats in the documentation: https://pandas.pydata.org/pandas-docs/stable/user_guide/indexing.html#returning-a-view-versus-a-copy\n",
      "  features[\"start_datetime\"] = pd.to_datetime(df[\"start_datetime\"])\n",
      "C:\\Users\\Camilo\\AppData\\Local\\Temp\\ipykernel_7244\\36176587.py:4: SettingWithCopyWarning: \n",
      "A value is trying to be set on a copy of a slice from a DataFrame.\n",
      "Try using .loc[row_indexer,col_indexer] = value instead\n",
      "\n",
      "See the caveats in the documentation: https://pandas.pydata.org/pandas-docs/stable/user_guide/indexing.html#returning-a-view-versus-a-copy\n",
      "  features[\"tiempo_viaje_full\"] = pd.to_timedelta(df[\"tiempo_viaje_full\"])\n",
      "C:\\Users\\Camilo\\AppData\\Local\\Temp\\ipykernel_7244\\36176587.py:7: SettingWithCopyWarning: \n",
      "A value is trying to be set on a copy of a slice from a DataFrame.\n",
      "Try using .loc[row_indexer,col_indexer] = value instead\n",
      "\n",
      "See the caveats in the documentation: https://pandas.pydata.org/pandas-docs/stable/user_guide/indexing.html#returning-a-view-versus-a-copy\n",
      "  features[\"start_hour\"] = features[\"start_datetime\"].dt.hour\n",
      "C:\\Users\\Camilo\\AppData\\Local\\Temp\\ipykernel_7244\\36176587.py:8: SettingWithCopyWarning: \n",
      "A value is trying to be set on a copy of a slice from a DataFrame.\n",
      "Try using .loc[row_indexer,col_indexer] = value instead\n",
      "\n",
      "See the caveats in the documentation: https://pandas.pydata.org/pandas-docs/stable/user_guide/indexing.html#returning-a-view-versus-a-copy\n",
      "  features[\"start_minute\"] = features[\"start_datetime\"].dt.minute\n",
      "C:\\Users\\Camilo\\AppData\\Local\\Temp\\ipykernel_7244\\36176587.py:9: SettingWithCopyWarning: \n",
      "A value is trying to be set on a copy of a slice from a DataFrame.\n",
      "Try using .loc[row_indexer,col_indexer] = value instead\n",
      "\n",
      "See the caveats in the documentation: https://pandas.pydata.org/pandas-docs/stable/user_guide/indexing.html#returning-a-view-versus-a-copy\n",
      "  features[\"start_second\"] = features[\"start_datetime\"].dt.second\n",
      "C:\\Users\\Camilo\\AppData\\Local\\Temp\\ipykernel_7244\\36176587.py:12: SettingWithCopyWarning: \n",
      "A value is trying to be set on a copy of a slice from a DataFrame.\n",
      "Try using .loc[row_indexer,col_indexer] = value instead\n",
      "\n",
      "See the caveats in the documentation: https://pandas.pydata.org/pandas-docs/stable/user_guide/indexing.html#returning-a-view-versus-a-copy\n",
      "  features[\"tiempo_viaje_full\"] = features[\"tiempo_viaje_full\"].apply(lambda x: x.total_seconds() / 3600)\n",
      "C:\\Users\\Camilo\\AppData\\Local\\Temp\\ipykernel_7244\\36176587.py:15: SettingWithCopyWarning: \n",
      "A value is trying to be set on a copy of a slice from a DataFrame.\n",
      "Try using .loc[row_indexer,col_indexer] = value instead\n",
      "\n",
      "See the caveats in the documentation: https://pandas.pydata.org/pandas-docs/stable/user_guide/indexing.html#returning-a-view-versus-a-copy\n",
      "  features[\"start_hour_decimal\"] = features[\"start_hour\"]+(features[\"start_minute\"]/60)+(features[\"start_second\"]/3600)\n"
     ]
    },
    {
     "data": {
      "text/plain": [
       "dtype('float64')"
      ]
     },
     "execution_count": 8,
     "metadata": {},
     "output_type": "execute_result"
    }
   ],
   "source": [
    "features = df[[\"posx_ajustada_origen\",\"posy_ajustada_origen\", \"posx_ajustada_destino\", \"posy_ajustada_destino\",\"tiempo_viaje_full\"]]\n",
    "#Casting dates\n",
    "features[\"start_datetime\"] = pd.to_datetime(df[\"start_datetime\"])\n",
    "features[\"tiempo_viaje_full\"] = pd.to_timedelta(df[\"tiempo_viaje_full\"])\n",
    "\n",
    "#separar hora, minuto y segundo\n",
    "features[\"start_hour\"] = features[\"start_datetime\"].dt.hour\n",
    "features[\"start_minute\"] = features[\"start_datetime\"].dt.minute\n",
    "features[\"start_second\"] = features[\"start_datetime\"].dt.second\n",
    "\n",
    "#tiempo de viaje en horas\n",
    "features[\"tiempo_viaje_full\"] = features[\"tiempo_viaje_full\"].apply(lambda x: x.total_seconds() / 3600)\n",
    "\n",
    "#convertir la hora a decimal\n",
    "features[\"start_hour_decimal\"] = features[\"start_hour\"]+(features[\"start_minute\"]/60)+(features[\"start_second\"]/3600)\n",
    "features.tiempo_viaje_full.dtypes"
   ]
  },
  {
   "cell_type": "code",
   "execution_count": 9,
   "id": "e181ca22",
   "metadata": {},
   "outputs": [],
   "source": [
    "np.random.seed(1337)\n",
    "ndf = len(features)\n",
    "index_train = np.random.choice(range(ndf), int(0.8*ndf), replace= False)\n",
    "index_test = np.asarray(list(set(range(ndf))- set(index_train)))\n",
    "\n",
    "model = features.iloc[index_train]\n",
    "not_seen = features.iloc[index_test]"
   ]
  },
  {
   "cell_type": "code",
   "execution_count": 10,
   "id": "7d6477e3",
   "metadata": {},
   "outputs": [
    {
     "data": {
      "text/html": [
       "<div>\n",
       "<style scoped>\n",
       "    .dataframe tbody tr th:only-of-type {\n",
       "        vertical-align: middle;\n",
       "    }\n",
       "\n",
       "    .dataframe tbody tr th {\n",
       "        vertical-align: top;\n",
       "    }\n",
       "\n",
       "    .dataframe thead th {\n",
       "        text-align: right;\n",
       "    }\n",
       "</style>\n",
       "<table border=\"1\" class=\"dataframe\">\n",
       "  <thead>\n",
       "    <tr style=\"text-align: right;\">\n",
       "      <th></th>\n",
       "      <th>posx_ajustada_origen</th>\n",
       "      <th>posy_ajustada_origen</th>\n",
       "      <th>posx_ajustada_destino</th>\n",
       "      <th>posy_ajustada_destino</th>\n",
       "      <th>tiempo_viaje_full</th>\n",
       "      <th>start_datetime</th>\n",
       "      <th>start_hour</th>\n",
       "      <th>start_minute</th>\n",
       "      <th>start_second</th>\n",
       "      <th>start_hour_decimal</th>\n",
       "    </tr>\n",
       "  </thead>\n",
       "  <tbody>\n",
       "    <tr>\n",
       "      <th>155204</th>\n",
       "      <td>-74.053966</td>\n",
       "      <td>4.683920</td>\n",
       "      <td>-74.047096</td>\n",
       "      <td>4.696558</td>\n",
       "      <td>0.283183</td>\n",
       "      <td>2021-10-26 11:08:18</td>\n",
       "      <td>11</td>\n",
       "      <td>8</td>\n",
       "      <td>18</td>\n",
       "      <td>11.138333</td>\n",
       "    </tr>\n",
       "    <tr>\n",
       "      <th>182066</th>\n",
       "      <td>-74.101893</td>\n",
       "      <td>4.738586</td>\n",
       "      <td>-74.065788</td>\n",
       "      <td>4.689024</td>\n",
       "      <td>0.569838</td>\n",
       "      <td>2021-10-26 07:42:35</td>\n",
       "      <td>7</td>\n",
       "      <td>42</td>\n",
       "      <td>35</td>\n",
       "      <td>7.709722</td>\n",
       "    </tr>\n",
       "    <tr>\n",
       "      <th>70583</th>\n",
       "      <td>-74.114223</td>\n",
       "      <td>4.706174</td>\n",
       "      <td>-74.077132</td>\n",
       "      <td>4.611081</td>\n",
       "      <td>1.201912</td>\n",
       "      <td>2021-10-26 07:02:50</td>\n",
       "      <td>7</td>\n",
       "      <td>2</td>\n",
       "      <td>50</td>\n",
       "      <td>7.047222</td>\n",
       "    </tr>\n",
       "    <tr>\n",
       "      <th>173661</th>\n",
       "      <td>-74.159821</td>\n",
       "      <td>4.613262</td>\n",
       "      <td>-74.119321</td>\n",
       "      <td>4.660878</td>\n",
       "      <td>0.672979</td>\n",
       "      <td>2021-10-26 04:26:06</td>\n",
       "      <td>4</td>\n",
       "      <td>26</td>\n",
       "      <td>6</td>\n",
       "      <td>4.435000</td>\n",
       "    </tr>\n",
       "    <tr>\n",
       "      <th>76705</th>\n",
       "      <td>-74.079979</td>\n",
       "      <td>4.684758</td>\n",
       "      <td>-74.124268</td>\n",
       "      <td>4.531817</td>\n",
       "      <td>1.153748</td>\n",
       "      <td>2021-10-26 07:23:12</td>\n",
       "      <td>7</td>\n",
       "      <td>23</td>\n",
       "      <td>12</td>\n",
       "      <td>7.386667</td>\n",
       "    </tr>\n",
       "  </tbody>\n",
       "</table>\n",
       "</div>"
      ],
      "text/plain": [
       "        posx_ajustada_origen  posy_ajustada_origen  posx_ajustada_destino  \\\n",
       "155204            -74.053966              4.683920             -74.047096   \n",
       "182066            -74.101893              4.738586             -74.065788   \n",
       "70583             -74.114223              4.706174             -74.077132   \n",
       "173661            -74.159821              4.613262             -74.119321   \n",
       "76705             -74.079979              4.684758             -74.124268   \n",
       "\n",
       "        posy_ajustada_destino  tiempo_viaje_full      start_datetime  \\\n",
       "155204               4.696558           0.283183 2021-10-26 11:08:18   \n",
       "182066               4.689024           0.569838 2021-10-26 07:42:35   \n",
       "70583                4.611081           1.201912 2021-10-26 07:02:50   \n",
       "173661               4.660878           0.672979 2021-10-26 04:26:06   \n",
       "76705                4.531817           1.153748 2021-10-26 07:23:12   \n",
       "\n",
       "        start_hour  start_minute  start_second  start_hour_decimal  \n",
       "155204          11             8            18           11.138333  \n",
       "182066           7            42            35            7.709722  \n",
       "70583            7             2            50            7.047222  \n",
       "173661           4            26             6            4.435000  \n",
       "76705            7            23            12            7.386667  "
      ]
     },
     "execution_count": 10,
     "metadata": {},
     "output_type": "execute_result"
    }
   ],
   "source": [
    "model.head()"
   ]
  },
  {
   "cell_type": "code",
   "execution_count": 11,
   "id": "271c80d9-ab79-4aaf-ae63-c782a5c94671",
   "metadata": {},
   "outputs": [],
   "source": [
    "from sklearn.model_selection import train_test_split\n",
    "\n",
    "x=model[['start_hour_decimal', \"posx_ajustada_origen\",\"posy_ajustada_origen\", \"posx_ajustada_destino\", \"posy_ajustada_destino\"]]  # Features\n",
    "y=model[\"tiempo_viaje_full\"]  # Labels\n",
    "\n",
    "# Split dataset into training set and test set\n",
    "train_features, test_features, train_labels, test_labels = train_test_split(x, y, test_size=0.3) # 70% training and 30% test"
   ]
  },
  {
   "cell_type": "code",
   "execution_count": 12,
   "id": "7871cf8e-58eb-4bb9-822b-ed5a927f1e28",
   "metadata": {},
   "outputs": [
    {
     "name": "stdout",
     "output_type": "stream",
     "text": [
      "Training Features Shape: (120668, 5)\n",
      "Training Labels Shape: (120668,)\n",
      "Testing Features Shape: (51716, 5)\n",
      "Testing Labels Shape: (51716,)\n"
     ]
    }
   ],
   "source": [
    "print('Training Features Shape:', train_features.shape)\n",
    "print('Training Labels Shape:', train_labels.shape)\n",
    "print('Testing Features Shape:', test_features.shape)\n",
    "print('Testing Labels Shape:', test_labels.shape)"
   ]
  },
  {
   "cell_type": "code",
   "execution_count": 13,
   "id": "82010f1a-1cda-4062-9c7b-a8b38b2a0437",
   "metadata": {},
   "outputs": [],
   "source": [
    "# Import the model we are using\n",
    "from sklearn.ensemble import RandomForestRegressor\n",
    "\n",
    "# Instantiate model \n",
    "rf = RandomForestRegressor(n_estimators= 1000, random_state=42)\n",
    "\n",
    "# Train the model on training data\n",
    "rf.fit(train_features, train_labels);"
   ]
  },
  {
   "cell_type": "code",
   "execution_count": 35,
   "id": "383220cc-5f23-49b6-86d0-f48636a0100c",
   "metadata": {},
   "outputs": [
    {
     "name": "stdout",
     "output_type": "stream",
     "text": [
      "Mean Absolute Error: 0.09 degrees.\n"
     ]
    }
   ],
   "source": [
    "# Use the forest's predict method on the test data\n",
    "predictions = rf.predict(test_features)\n",
    "\n",
    "# Calculate the absolute errors\n",
    "errors = abs(predictions - test_labels)\n",
    "\n",
    "# Print out the mean absolute error (mae)\n",
    "print('Mean Absolute Error:', round(np.mean(errors), 2), 'degrees.')"
   ]
  },
  {
   "cell_type": "code",
   "execution_count": 39,
   "id": "5ea41256-8aa8-4614-8763-d97bee9dd029",
   "metadata": {},
   "outputs": [
    {
     "name": "stdout",
     "output_type": "stream",
     "text": [
      "MSE: 0.02\n",
      "RMSE: 0.13\n",
      "R_CUADRADO: 0.89\n"
     ]
    }
   ],
   "source": [
    "from sklearn.metrics import r2_score, mean_squared_error\n",
    "\n",
    "#metricts to compare with other models\n",
    "mse = mean_squared_error(test_labels, predictions)\n",
    "rmse = mse**(0.5)\n",
    "r2 = r2_score(test_labels, predictions)\n",
    "print(\"MSE: %.2f\" % mse)\n",
    "print(\"RMSE: %.2f\" % rmse)\n",
    "print(\"R_CUADRADO: %.2f\" % r2)"
   ]
  },
  {
   "cell_type": "code",
   "execution_count": 14,
   "id": "cd2bfc6a-d72d-4e4d-a54d-8dfc3138268f",
   "metadata": {},
   "outputs": [],
   "source": [
    "import joblib"
   ]
  },
  {
   "cell_type": "code",
   "execution_count": 15,
   "id": "db21c292-34e0-4597-9036-293d4592c4ed",
   "metadata": {},
   "outputs": [
    {
     "data": {
      "text/plain": [
       "['model.sav']"
      ]
     },
     "execution_count": 15,
     "metadata": {},
     "output_type": "execute_result"
    }
   ],
   "source": [
    "filename = \"model.sav\"\n",
    "joblib.dump(rf, filename)"
   ]
  },
  {
   "cell_type": "code",
   "execution_count": 16,
   "id": "3b668c97-dbe5-4ffe-9c24-b7d05d55344f",
   "metadata": {},
   "outputs": [
    {
     "data": {
      "text/html": [
       "<div>\n",
       "<style scoped>\n",
       "    .dataframe tbody tr th:only-of-type {\n",
       "        vertical-align: middle;\n",
       "    }\n",
       "\n",
       "    .dataframe tbody tr th {\n",
       "        vertical-align: top;\n",
       "    }\n",
       "\n",
       "    .dataframe thead th {\n",
       "        text-align: right;\n",
       "    }\n",
       "</style>\n",
       "<table border=\"1\" class=\"dataframe\">\n",
       "  <thead>\n",
       "    <tr style=\"text-align: right;\">\n",
       "      <th></th>\n",
       "      <th>start_hour_decimal</th>\n",
       "      <th>posx_ajustada_origen</th>\n",
       "      <th>posy_ajustada_origen</th>\n",
       "      <th>posx_ajustada_destino</th>\n",
       "      <th>posy_ajustada_destino</th>\n",
       "    </tr>\n",
       "  </thead>\n",
       "  <tbody>\n",
       "    <tr>\n",
       "      <th>33028</th>\n",
       "      <td>8.019167</td>\n",
       "      <td>-74.141051</td>\n",
       "      <td>4.659379</td>\n",
       "      <td>-74.151210</td>\n",
       "      <td>4.680536</td>\n",
       "    </tr>\n",
       "    <tr>\n",
       "      <th>196647</th>\n",
       "      <td>5.859722</td>\n",
       "      <td>-74.142247</td>\n",
       "      <td>4.713624</td>\n",
       "      <td>-74.128486</td>\n",
       "      <td>4.649714</td>\n",
       "    </tr>\n",
       "    <tr>\n",
       "      <th>101068</th>\n",
       "      <td>14.919167</td>\n",
       "      <td>-74.129727</td>\n",
       "      <td>4.712102</td>\n",
       "      <td>-74.096442</td>\n",
       "      <td>4.691789</td>\n",
       "    </tr>\n",
       "    <tr>\n",
       "      <th>118332</th>\n",
       "      <td>6.816667</td>\n",
       "      <td>-74.145913</td>\n",
       "      <td>4.707483</td>\n",
       "      <td>-74.132899</td>\n",
       "      <td>4.706067</td>\n",
       "    </tr>\n",
       "    <tr>\n",
       "      <th>193595</th>\n",
       "      <td>19.356944</td>\n",
       "      <td>-74.102161</td>\n",
       "      <td>4.578351</td>\n",
       "      <td>-74.175091</td>\n",
       "      <td>4.610389</td>\n",
       "    </tr>\n",
       "  </tbody>\n",
       "</table>\n",
       "</div>"
      ],
      "text/plain": [
       "        start_hour_decimal  posx_ajustada_origen  posy_ajustada_origen  \\\n",
       "33028             8.019167            -74.141051              4.659379   \n",
       "196647            5.859722            -74.142247              4.713624   \n",
       "101068           14.919167            -74.129727              4.712102   \n",
       "118332            6.816667            -74.145913              4.707483   \n",
       "193595           19.356944            -74.102161              4.578351   \n",
       "\n",
       "        posx_ajustada_destino  posy_ajustada_destino  \n",
       "33028              -74.151210               4.680536  \n",
       "196647             -74.128486               4.649714  \n",
       "101068             -74.096442               4.691789  \n",
       "118332             -74.132899               4.706067  \n",
       "193595             -74.175091               4.610389  "
      ]
     },
     "execution_count": 16,
     "metadata": {},
     "output_type": "execute_result"
    }
   ],
   "source": [
    "test_features.head()"
   ]
  },
  {
   "cell_type": "code",
   "execution_count": 17,
   "id": "b975c682-3962-4b9f-a365-aa24a1c85d61",
   "metadata": {},
   "outputs": [],
   "source": [
    "predictions = rf.predict(test_features.head())\n"
   ]
  },
  {
   "cell_type": "code",
   "execution_count": null,
   "id": "e53a1654-8f6a-4eff-9758-ba868875843c",
   "metadata": {},
   "outputs": [],
   "source": []
  }
 ],
 "metadata": {
  "kernelspec": {
   "display_name": "Python 3 (ipykernel)",
   "language": "python",
   "name": "python3"
  },
  "language_info": {
   "codemirror_mode": {
    "name": "ipython",
    "version": 3
   },
   "file_extension": ".py",
   "mimetype": "text/x-python",
   "name": "python",
   "nbconvert_exporter": "python",
   "pygments_lexer": "ipython3",
   "version": "3.10.5"
  }
 },
 "nbformat": 4,
 "nbformat_minor": 5
}
